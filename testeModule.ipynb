{
 "cells": [
  {
   "cell_type": "code",
   "execution_count": 1,
   "metadata": {},
   "outputs": [],
   "source": [
    "#import sys\n",
    "#sys.path.append(\".\")\n",
    "from Notification import NotificationEmail as ne"
   ]
  },
  {
   "cell_type": "markdown",
   "metadata": {},
   "source": [
    "### Configuração:\n",
    "#### - servidor\n",
    "#### - porta de conexão\n",
    "#### - usuário de e-mail\n",
    "#### - senha de e-mail\n",
    "#### - caminho de arquirvo para anexar"
   ]
  },
  {
   "cell_type": "code",
   "execution_count": 2,
   "metadata": {},
   "outputs": [],
   "source": [
    "# Configuração\n",
    "host = 'smtp.gmail.com' #chose your host\n",
    "port = 587 #chose the host port\n",
    "user = 'emailuser@gmail.com'\n",
    "password = '<useremailpassword>'\n",
    "path_arquivo = './teste.txt'"
   ]
  },
  {
   "cell_type": "markdown",
   "metadata": {},
   "source": [
    "### inserção do Título do e-mail, da lista de e-mails para envio e do corpo da mensagem"
   ]
  },
  {
   "cell_type": "code",
   "execution_count": 3,
   "metadata": {},
   "outputs": [],
   "source": [
    "subject = 'teste'\n",
    "email_list = ['emailrecipient1@host.com','emailrecipient2@host.com']\n",
    "\n",
    "message_html = '''\n",
    "<html>\n",
    "  <head></head>\n",
    "  <body>\n",
    "    <p>Olá!<br>\n",
    "       teste de mensagem<br>\n",
    "       testandooo!!!\n",
    "    </p>\n",
    "  </body>\n",
    "</html>\n",
    "'''"
   ]
  },
  {
   "cell_type": "markdown",
   "metadata": {},
   "source": [
    "### Chamada a função para envio do e-mail"
   ]
  },
  {
   "cell_type": "code",
   "execution_count": 5,
   "metadata": {},
   "outputs": [],
   "source": [
    "notificacao = ne(subject, message_html , user , password , path_arquivo , email_list, host, port)\n",
    "notificacao.sendEmail()"
   ]
  }
 ],
 "metadata": {
  "kernelspec": {
   "display_name": "Python 3",
   "language": "python",
   "name": "python3"
  },
  "language_info": {
   "codemirror_mode": {
    "name": "ipython",
    "version": 3
   },
   "file_extension": ".py",
   "mimetype": "text/x-python",
   "name": "python",
   "nbconvert_exporter": "python",
   "pygments_lexer": "ipython3",
   "version": "3.8.3"
  }
 },
 "nbformat": 4,
 "nbformat_minor": 4
}
